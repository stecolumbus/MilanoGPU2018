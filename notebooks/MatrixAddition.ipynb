{
 "cells": [
  {
   "cell_type": "markdown",
   "metadata": {},
   "source": [
    "# License\n",
    "\n",
    "    Jupyter notebook for accessing CUDA\n",
    "    Copyright (C) 2018 Andre.Brodtkorb@ifi.uio.no\n",
    "\n",
    "    This program is free software: you can redistribute it and/or modify\n",
    "    it under the terms of the GNU General Public License as published by\n",
    "    the Free Software Foundation, either version 3 of the License, or\n",
    "    (at your option) any later version.\n",
    "\n",
    "    This program is distributed in the hope that it will be useful,\n",
    "    but WITHOUT ANY WARRANTY; without even the implied warranty of\n",
    "    MERCHANTABILITY or FITNESS FOR A PARTICULAR PURPOSE.  See the\n",
    "    GNU General Public License for more details.\n",
    "\n",
    "    You should have received a copy of the GNU General Public License\n",
    "    along with this program.  If not, see <http://www.gnu.org/licenses/>."
   ]
  },
  {
   "cell_type": "code",
   "execution_count": 6,
   "metadata": {},
   "outputs": [],
   "source": [
    "#Lets have matplotlib \"inline\"\n",
    "%matplotlib inline\n",
    "\n",
    "#Import packages we need\n",
    "import numpy as np\n",
    "import pycuda.compiler as cuda_compiler\n",
    "from pycuda.gpuarray import GPUArray\n",
    "import pycuda.driver as cuda_driver\n",
    "\n",
    "from matplotlib import pyplot as plt"
   ]
  },
  {
   "cell_type": "code",
   "execution_count": 7,
   "metadata": {},
   "outputs": [],
   "source": [
    "#Initialize CUDA - must be first call to CUDA!\n",
    "cuda_driver.init()"
   ]
  },
  {
   "cell_type": "code",
   "execution_count": 8,
   "metadata": {},
   "outputs": [
    {
     "name": "stdout",
     "output_type": "stream",
     "text": [
      "Using 'Tesla K80'\n",
      " => compute capability: (3, 7)\n",
      " => memory: 9368 / 11441 MB available\n"
     ]
    }
   ],
   "source": [
    "#Create CUDA context\n",
    "cuda_device = cuda_driver.Device(0)\n",
    "print(\"Using '{:s}'\".format(cuda_device.name()))\n",
    "print(\" => compute capability: {:s}\".format(str(cuda_device.compute_capability())))\n",
    "context = cuda_device.make_context()\n",
    "free, total = cuda_driver.mem_get_info()\n",
    "print(\" => memory: {:d} / {:d} MB available\".format(int(free/(1024*1024)), int(total/(1024*1024))))"
   ]
  },
  {
   "cell_type": "code",
   "execution_count": 9,
   "metadata": {},
   "outputs": [],
   "source": [
    "cuda_kernel = \"\"\"\n",
    "__global__ void addVectorKernel(float* c, float* a, float* b) {\n",
    "    unsigned int i = blockIdx.x*blockDim.x + threadIdx.x;\n",
    "    c[i] = a[i] + b[i];\n",
    "}\n",
    "\n",
    "\n",
    "__global__ void addMatrixKernel(float* c, float* a, float* b, int cols) {\n",
    "    unsigned int i = blockIdx.x*blockDim.x + threadIdx.x;\n",
    "    unsigned int j = blockIdx.y*blockDim.y + threadIdx.y;\n",
    "    \n",
    "    //Pseudocode\n",
    "    //c[j][i] = a[j][i] + b[j][i]\n",
    "    unsigned int k = j*cols + i;\n",
    "    \n",
    "    c[k] = a[k] + b[k];\n",
    "\n",
    "}\n",
    "\"\"\"\n",
    "module = cuda_compiler.SourceModule(cuda_kernel)\n",
    "kernel = module.get_function(\"addMatrixKernel\");"
   ]
  },
  {
   "cell_type": "code",
   "execution_count": 10,
   "metadata": {},
   "outputs": [
    {
     "data": {
      "image/png": "[encoded data removed]",
      "text/plain": [
       "<matplotlib.figure.Figure at 0x7f8e5ce9e2b0>"
      ]
     },
     "metadata": {
      "needs_background": "light"
     },
     "output_type": "display_data"
    }
   ],
   "source": [
    "#Size of our test\n",
    "test_size = (16, 24)\n",
    "\n",
    "#Create test input / output data\n",
    "a = np.random.random(test_size).astype(np.float32)\n",
    "b = np.random.random(test_size).astype(np.float32)\n",
    "c = np.empty_like(a)\n",
    "\n",
    "fig = plt.figure(figsize=(12,8))\n",
    "plt.imshow(a)\n",
    "plt.colorbar()\n",
    "fig.show()\n",
    "\n"
   ]
  },
  {
   "cell_type": "code",
   "execution_count": 12,
   "metadata": {},
   "outputs": [
    {
     "name": "stdout",
     "output_type": "stream",
     "text": [
      "(16, 24)\n"
     ]
    }
   ],
   "source": [
    "print(a.shape)"
   ]
  },
  {
   "cell_type": "code",
   "execution_count": 13,
   "metadata": {},
   "outputs": [],
   "source": [
    "#Upload data to the device\n",
    "a_g = GPUArray(a.shape, np.float32)\n",
    "b_g = GPUArray(b.shape, np.float32)\n",
    "a_g.set(a)\n",
    "b_g.set(b)"
   ]
  },
  {
   "cell_type": "code",
   "execution_count": 14,
   "metadata": {},
   "outputs": [],
   "source": [
    "#Allocate output data\n",
    "c_g = GPUArray(c.shape, np.float32)"
   ]
  },
  {
   "cell_type": "code",
   "execution_count": 19,
   "metadata": {},
   "outputs": [
    {
     "name": "stdout",
     "output_type": "stream",
     "text": [
      "Domain size is(24, 16)\n",
      "Block size is(8, 4, 1)\n",
      "Grid size is(3, 4, 1)\n"
     ]
    }
   ],
   "source": [
    "#a.shape=(rows, cols) => (y, x)\n",
    "domain_size = (a.shape[1],a.shape[0]) #domain_size (x, y)\n",
    "block_size = (8, 4, 1) #these need to be (x, y, z)\n",
    "grid_size = (domain_size[0] // block_size[0], domain_size[1]//block_size[1],1)\n",
    "\n",
    "print(\"Domain size is\" + str(domain_size))\n",
    "print(\"Block size is\" + str(block_size))\n",
    "print(\"Grid size is\" + str(grid_size))"
   ]
  },
  {
   "cell_type": "code",
   "execution_count": 22,
   "metadata": {},
   "outputs": [
    {
     "data": {
      "text/plain": [
       "array([[1.582273  , 0.6053362 , 1.3915288 , 1.0718361 , 0.85476565,\n",
       "        1.8260131 , 0.8120688 , 0.9799354 , 0.7487793 , 0.920273  ,\n",
       "        1.307342  , 0.7655075 , 1.2025385 , 1.0213708 , 1.1953632 ,\n",
       "        0.9774535 , 0.7103076 , 0.7971587 , 1.6920054 , 0.69905293,\n",
       "        0.13549091, 0.28124636, 0.4489905 , 1.1212287 ],\n",
       "       [0.684755  , 1.3635907 , 1.3997867 , 0.54822993, 0.6989029 ,\n",
       "        0.5787893 , 1.4174986 , 0.53684306, 1.0068322 , 1.2104297 ,\n",
       "        0.87714463, 0.74460304, 1.0778574 , 1.8228748 , 1.0815787 ,\n",
       "        1.326149  , 0.8305589 , 1.4080584 , 0.9462984 , 1.1681377 ,\n",
       "        0.81401825, 0.7113296 , 0.9104987 , 1.1668836 ],\n",
       "       [1.5654316 , 0.6021084 , 1.2535498 , 0.66456306, 0.96625936,\n",
       "        1.3984753 , 1.3681593 , 1.4584982 , 0.49935192, 0.9223521 ,\n",
       "        0.7611207 , 0.85480285, 1.6024678 , 0.9483594 , 0.4115011 ,\n",
       "        1.7973261 , 1.1783557 , 1.0932567 , 1.0790768 , 1.333998  ,\n",
       "        1.0405729 , 1.9576616 , 0.94561154, 0.6683275 ],\n",
       "       [0.27909157, 1.3226154 , 0.7206613 , 1.5353844 , 0.2186843 ,\n",
       "        1.5465565 , 1.1155473 , 0.918882  , 0.78851664, 0.8998929 ,\n",
       "        0.8579803 , 0.73776513, 0.8542892 , 1.3555745 , 1.5447303 ,\n",
       "        1.3086263 , 0.56776106, 1.0725147 , 0.8103056 , 1.2475525 ,\n",
       "        0.9344959 , 0.57880163, 0.3079929 , 1.3035651 ],\n",
       "       [0.5546883 , 1.6140559 , 1.0312326 , 1.7648414 , 0.5007783 ,\n",
       "        1.214965  , 0.84249616, 1.261774  , 1.7000511 , 0.8366293 ,\n",
       "        0.8696368 , 0.8530084 , 0.43650532, 0.98957646, 0.70902395,\n",
       "        0.7098909 , 1.0825137 , 1.2593737 , 0.63055307, 1.5039239 ,\n",
       "        1.1452737 , 1.9619997 , 1.6225556 , 0.6867578 ],\n",
       "       [0.70567954, 1.394006  , 1.3392608 , 1.4548235 , 0.8824985 ,\n",
       "        1.1142008 , 0.69318306, 1.8438358 , 0.9828063 , 0.13808225,\n",
       "        0.9785665 , 1.8282287 , 0.6109205 , 1.1287794 , 1.7255596 ,\n",
       "        0.6180785 , 1.2929578 , 1.6366336 , 1.170826  , 0.32690954,\n",
       "        0.34241444, 0.49649227, 1.705132  , 1.5874124 ],\n",
       "       [0.6748683 , 1.0397547 , 0.28753158, 0.7281216 , 1.3224974 ,\n",
       "        1.635953  , 1.0656843 , 0.73481786, 1.5297241 , 0.56454504,\n",
       "        1.4882563 , 0.612149  , 1.594615  , 1.5356542 , 1.0383525 ,\n",
       "        1.0893744 , 1.0690727 , 1.9054706 , 1.4842279 , 1.1224134 ,\n",
       "        1.0508194 , 1.0948473 , 0.91274583, 1.4869006 ],\n",
       "       [0.52829707, 0.6728749 , 1.8343526 , 0.43547866, 0.84702724,\n",
       "        0.5725801 , 1.4247134 , 0.63581175, 0.76915634, 1.4048784 ,\n",
       "        0.98002446, 1.4721723 , 0.77442575, 0.29891518, 1.6306131 ,\n",
       "        0.80400485, 0.3232779 , 1.0870281 , 0.2659117 , 0.30526593,\n",
       "        1.0269755 , 1.4245925 , 0.9107967 , 1.023078  ],\n",
       "       [1.3937337 , 1.653518  , 1.2096756 , 1.1068256 , 0.5006327 ,\n",
       "        0.5888026 , 1.4117663 , 1.2424083 , 1.1029522 , 0.67316926,\n",
       "        1.4635135 , 0.7659512 , 0.2936237 , 1.0801737 , 0.11875293,\n",
       "        0.79523623, 1.1333957 , 1.2837992 , 1.2331567 , 0.78951603,\n",
       "        1.0698574 , 0.6305216 , 1.5006161 , 0.34062463],\n",
       "       [1.0915294 , 0.9610292 , 0.6347976 , 0.67878646, 0.6030025 ,\n",
       "        1.3861897 , 1.3644834 , 1.189595  , 1.4292862 , 0.85610414,\n",
       "        1.166047  , 1.1154857 , 0.74452925, 0.26852122, 0.78542423,\n",
       "        1.1808096 , 1.4873016 , 0.84633076, 0.94312966, 1.2508562 ,\n",
       "        0.31914657, 1.4817344 , 0.96405715, 1.4189136 ],\n",
       "       [1.1085672 , 1.1251923 , 1.1028539 , 1.0763264 , 0.95235085,\n",
       "        0.7183962 , 0.94996154, 1.6998131 , 0.92279494, 1.1055331 ,\n",
       "        0.7699799 , 1.0645483 , 1.0930033 , 0.773671  , 0.6378819 ,\n",
       "        0.90916026, 0.8641246 , 0.21501197, 0.64813924, 0.7730167 ,\n",
       "        0.9144945 , 1.9135604 , 0.33107188, 1.3441571 ],\n",
       "       [0.64200723, 1.7745467 , 0.98710465, 1.3537445 , 1.2777864 ,\n",
       "        0.5721182 , 1.505845  , 0.65483195, 1.3153824 , 0.81598955,\n",
       "        1.2885888 , 0.67825323, 0.1992732 , 0.38594157, 1.4420732 ,\n",
       "        1.1328993 , 1.3490046 , 0.5651543 , 0.90246844, 1.250595  ,\n",
       "        1.5462369 , 1.4166553 , 1.3901005 , 1.3467615 ],\n",
       "       [0.56014466, 0.8048717 , 1.2279626 , 1.5567719 , 0.9803804 ,\n",
       "        1.1000851 , 0.82043076, 0.8447998 , 0.7222671 , 1.4745736 ,\n",
       "        0.8170675 , 0.7249707 , 1.2358177 , 0.26545936, 1.9501448 ,\n",
       "        1.0841429 , 0.14204557, 1.6726353 , 1.6341138 , 0.6695553 ,\n",
       "        0.15562594, 0.9299348 , 0.9548463 , 1.1665184 ],\n",
       "       [0.7127842 , 0.78868717, 0.7642688 , 1.1009629 , 1.0680275 ,\n",
       "        0.21829545, 0.6513238 , 1.5849135 , 0.60342896, 0.658338  ,\n",
       "        0.8959798 , 0.85580206, 0.5369559 , 1.4608525 , 1.5503271 ,\n",
       "        0.96542114, 1.5198703 , 0.6925348 , 0.9682497 , 1.6382577 ,\n",
       "        1.280516  , 1.1689739 , 0.88910174, 1.2734628 ],\n",
       "       [1.2272635 , 0.35296893, 0.9250928 , 1.0155556 , 0.58755434,\n",
       "        0.97343063, 1.0025028 , 0.7651209 , 0.90554494, 0.9959636 ,\n",
       "        0.84389806, 0.37351906, 1.0928216 , 1.0954697 , 1.148562  ,\n",
       "        0.75335854, 1.068516  , 1.4466147 , 0.9842361 , 1.065162  ,\n",
       "        1.0951647 , 0.9393145 , 1.3681152 , 0.700997  ],\n",
       "       [1.5967767 , 0.73696613, 0.8316869 , 0.9530628 , 1.1160145 ,\n",
       "        1.4495013 , 1.3149152 , 0.7253422 , 0.53299063, 1.7470064 ,\n",
       "        1.3195069 , 0.8392705 , 1.0368696 , 1.1404116 , 1.5704262 ,\n",
       "        0.8169174 , 0.80116165, 1.490607  , 0.9426168 , 1.4104066 ,\n",
       "        1.8044682 , 1.8360202 , 1.1207632 , 1.7919593 ]], dtype=float32)"
      ]
     },
     "execution_count": 22,
     "metadata": {},
     "output_type": "execute_result"
    }
   ],
   "source": [
    "#Execute program on device\n",
    "kernel(c_g, a_g, b_g, np.int32(domain_size[0]), block=block_size, grid=grid_size)\n",
    "\n",
    "#Copy data from device to host\n",
    "c_g.get(c)"
   ]
  },
  {
   "cell_type": "code",
   "execution_count": 23,
   "metadata": {},
   "outputs": [
    {
     "name": "stdout",
     "output_type": "stream",
     "text": [
      "C   =  [[1.582273   0.6053362  1.3915288  1.0718361  0.85476565 1.8260131\n",
      "  0.8120688  0.9799354  0.7487793  0.920273   1.307342   0.7655075\n",
      "  1.2025385  1.0213708  1.1953632  0.9774535  0.7103076  0.7971587\n",
      "  1.6920054  0.69905293 0.13549091 0.28124636 0.4489905  1.1212287 ]\n",
      " [0.684755   1.3635907  1.3997867  0.54822993 0.6989029  0.5787893\n",
      "  1.4174986  0.53684306 1.0068322  1.2104297  0.87714463 0.74460304\n",
      "  1.0778574  1.8228748  1.0815787  1.326149   0.8305589  1.4080584\n",
      "  0.9462984  1.1681377  0.81401825 0.7113296  0.9104987  1.1668836 ]\n",
      " [1.5654316  0.6021084  1.2535498  0.66456306 0.96625936 1.3984753\n",
      "  1.3681593  1.4584982  0.49935192 0.9223521  0.7611207  0.85480285\n",
      "  1.6024678  0.9483594  0.4115011  1.7973261  1.1783557  1.0932567\n",
      "  1.0790768  1.333998   1.0405729  1.9576616  0.94561154 0.6683275 ]\n",
      " [0.27909157 1.3226154  0.7206613  1.5353844  0.2186843  1.5465565\n",
      "  1.1155473  0.918882   0.78851664 0.8998929  0.8579803  0.73776513\n",
      "  0.8542892  1.3555745  1.5447303  1.3086263  0.56776106 1.0725147\n",
      "  0.8103056  1.2475525  0.9344959  0.57880163 0.3079929  1.3035651 ]\n",
      " [0.5546883  1.6140559  1.0312326  1.7648414  0.5007783  1.214965\n",
      "  0.84249616 1.261774   1.7000511  0.8366293  0.8696368  0.8530084\n",
      "  0.43650532 0.98957646 0.70902395 0.7098909  1.0825137  1.2593737\n",
      "  0.63055307 1.5039239  1.1452737  1.9619997  1.6225556  0.6867578 ]\n",
      " [0.70567954 1.394006   1.3392608  1.4548235  0.8824985  1.1142008\n",
      "  0.69318306 1.8438358  0.9828063  0.13808225 0.9785665  1.8282287\n",
      "  0.6109205  1.1287794  1.7255596  0.6180785  1.2929578  1.6366336\n",
      "  1.170826   0.32690954 0.34241444 0.49649227 1.705132   1.5874124 ]\n",
      " [0.6748683  1.0397547  0.28753158 0.7281216  1.3224974  1.635953\n",
      "  1.0656843  0.73481786 1.5297241  0.56454504 1.4882563  0.612149\n",
      "  1.594615   1.5356542  1.0383525  1.0893744  1.0690727  1.9054706\n",
      "  1.4842279  1.1224134  1.0508194  1.0948473  0.91274583 1.4869006 ]\n",
      " [0.52829707 0.6728749  1.8343526  0.43547866 0.84702724 0.5725801\n",
      "  1.4247134  0.63581175 0.76915634 1.4048784  0.98002446 1.4721723\n",
      "  0.77442575 0.29891518 1.6306131  0.80400485 0.3232779  1.0870281\n",
      "  0.2659117  0.30526593 1.0269755  1.4245925  0.9107967  1.023078  ]\n",
      " [1.3937337  1.653518   1.2096756  1.1068256  0.5006327  0.5888026\n",
      "  1.4117663  1.2424083  1.1029522  0.67316926 1.4635135  0.7659512\n",
      "  0.2936237  1.0801737  0.11875293 0.79523623 1.1333957  1.2837992\n",
      "  1.2331567  0.78951603 1.0698574  0.6305216  1.5006161  0.34062463]\n",
      " [1.0915294  0.9610292  0.6347976  0.67878646 0.6030025  1.3861897\n",
      "  1.3644834  1.189595   1.4292862  0.85610414 1.166047   1.1154857\n",
      "  0.74452925 0.26852122 0.78542423 1.1808096  1.4873016  0.84633076\n",
      "  0.94312966 1.2508562  0.31914657 1.4817344  0.96405715 1.4189136 ]\n",
      " [1.1085672  1.1251923  1.1028539  1.0763264  0.95235085 0.7183962\n",
      "  0.94996154 1.6998131  0.92279494 1.1055331  0.7699799  1.0645483\n",
      "  1.0930033  0.773671   0.6378819  0.90916026 0.8641246  0.21501197\n",
      "  0.64813924 0.7730167  0.9144945  1.9135604  0.33107188 1.3441571 ]\n",
      " [0.64200723 1.7745467  0.98710465 1.3537445  1.2777864  0.5721182\n",
      "  1.505845   0.65483195 1.3153824  0.81598955 1.2885888  0.67825323\n",
      "  0.1992732  0.38594157 1.4420732  1.1328993  1.3490046  0.5651543\n",
      "  0.90246844 1.250595   1.5462369  1.4166553  1.3901005  1.3467615 ]\n",
      " [0.56014466 0.8048717  1.2279626  1.5567719  0.9803804  1.1000851\n",
      "  0.82043076 0.8447998  0.7222671  1.4745736  0.8170675  0.7249707\n",
      "  1.2358177  0.26545936 1.9501448  1.0841429  0.14204557 1.6726353\n",
      "  1.6341138  0.6695553  0.15562594 0.9299348  0.9548463  1.1665184 ]\n",
      " [0.7127842  0.78868717 0.7642688  1.1009629  1.0680275  0.21829545\n",
      "  0.6513238  1.5849135  0.60342896 0.658338   0.8959798  0.85580206\n",
      "  0.5369559  1.4608525  1.5503271  0.96542114 1.5198703  0.6925348\n",
      "  0.9682497  1.6382577  1.280516   1.1689739  0.88910174 1.2734628 ]\n",
      " [1.2272635  0.35296893 0.9250928  1.0155556  0.58755434 0.97343063\n",
      "  1.0025028  0.7651209  0.90554494 0.9959636  0.84389806 0.37351906\n",
      "  1.0928216  1.0954697  1.148562   0.75335854 1.068516   1.4466147\n",
      "  0.9842361  1.065162   1.0951647  0.9393145  1.3681152  0.700997  ]\n",
      " [1.5967767  0.73696613 0.8316869  0.9530628  1.1160145  1.4495013\n",
      "  1.3149152  0.7253422  0.53299063 1.7470064  1.3195069  0.8392705\n",
      "  1.0368696  1.1404116  1.5704262  0.8169174  0.80116165 1.490607\n",
      "  0.9426168  1.4104066  1.8044682  1.8360202  1.1207632  1.7919593 ]]\n",
      "Ref =  [[1.582273   0.6053362  1.3915288  1.0718361  0.85476565 1.8260131\n",
      "  0.8120688  0.9799354  0.7487793  0.920273   1.307342   0.7655075\n",
      "  1.2025385  1.0213708  1.1953632  0.9774535  0.7103076  0.7971587\n",
      "  1.6920054  0.69905293 0.13549091 0.28124636 0.4489905  1.1212287 ]\n",
      " [0.684755   1.3635907  1.3997867  0.54822993 0.6989029  0.5787893\n",
      "  1.4174986  0.53684306 1.0068322  1.2104297  0.87714463 0.74460304\n",
      "  1.0778574  1.8228748  1.0815787  1.326149   0.8305589  1.4080584\n",
      "  0.9462984  1.1681377  0.81401825 0.7113296  0.9104987  1.1668836 ]\n",
      " [1.5654316  0.6021084  1.2535498  0.66456306 0.96625936 1.3984753\n",
      "  1.3681593  1.4584982  0.49935192 0.9223521  0.7611207  0.85480285\n",
      "  1.6024678  0.9483594  0.4115011  1.7973261  1.1783557  1.0932567\n",
      "  1.0790768  1.333998   1.0405729  1.9576616  0.94561154 0.6683275 ]\n",
      " [0.27909157 1.3226154  0.7206613  1.5353844  0.2186843  1.5465565\n",
      "  1.1155473  0.918882   0.78851664 0.8998929  0.8579803  0.73776513\n",
      "  0.8542892  1.3555745  1.5447303  1.3086263  0.56776106 1.0725147\n",
      "  0.8103056  1.2475525  0.9344959  0.57880163 0.3079929  1.3035651 ]\n",
      " [0.5546883  1.6140559  1.0312326  1.7648414  0.5007783  1.214965\n",
      "  0.84249616 1.261774   1.7000511  0.8366293  0.8696368  0.8530084\n",
      "  0.43650532 0.98957646 0.70902395 0.7098909  1.0825137  1.2593737\n",
      "  0.63055307 1.5039239  1.1452737  1.9619997  1.6225556  0.6867578 ]\n",
      " [0.70567954 1.394006   1.3392608  1.4548235  0.8824985  1.1142008\n",
      "  0.69318306 1.8438358  0.9828063  0.13808225 0.9785665  1.8282287\n",
      "  0.6109205  1.1287794  1.7255596  0.6180785  1.2929578  1.6366336\n",
      "  1.170826   0.32690954 0.34241444 0.49649227 1.705132   1.5874124 ]\n",
      " [0.6748683  1.0397547  0.28753158 0.7281216  1.3224974  1.635953\n",
      "  1.0656843  0.73481786 1.5297241  0.56454504 1.4882563  0.612149\n",
      "  1.594615   1.5356542  1.0383525  1.0893744  1.0690727  1.9054706\n",
      "  1.4842279  1.1224134  1.0508194  1.0948473  0.91274583 1.4869006 ]\n",
      " [0.52829707 0.6728749  1.8343526  0.43547866 0.84702724 0.5725801\n",
      "  1.4247134  0.63581175 0.76915634 1.4048784  0.98002446 1.4721723\n",
      "  0.77442575 0.29891518 1.6306131  0.80400485 0.3232779  1.0870281\n",
      "  0.2659117  0.30526593 1.0269755  1.4245925  0.9107967  1.023078  ]\n",
      " [1.3937337  1.653518   1.2096756  1.1068256  0.5006327  0.5888026\n",
      "  1.4117663  1.2424083  1.1029522  0.67316926 1.4635135  0.7659512\n",
      "  0.2936237  1.0801737  0.11875293 0.79523623 1.1333957  1.2837992\n",
      "  1.2331567  0.78951603 1.0698574  0.6305216  1.5006161  0.34062463]\n",
      " [1.0915294  0.9610292  0.6347976  0.67878646 0.6030025  1.3861897\n",
      "  1.3644834  1.189595   1.4292862  0.85610414 1.166047   1.1154857\n",
      "  0.74452925 0.26852122 0.78542423 1.1808096  1.4873016  0.84633076\n",
      "  0.94312966 1.2508562  0.31914657 1.4817344  0.96405715 1.4189136 ]\n",
      " [1.1085672  1.1251923  1.1028539  1.0763264  0.95235085 0.7183962\n",
      "  0.94996154 1.6998131  0.92279494 1.1055331  0.7699799  1.0645483\n",
      "  1.0930033  0.773671   0.6378819  0.90916026 0.8641246  0.21501197\n",
      "  0.64813924 0.7730167  0.9144945  1.9135604  0.33107188 1.3441571 ]\n",
      " [0.64200723 1.7745467  0.98710465 1.3537445  1.2777864  0.5721182\n",
      "  1.505845   0.65483195 1.3153824  0.81598955 1.2885888  0.67825323\n",
      "  0.1992732  0.38594157 1.4420732  1.1328993  1.3490046  0.5651543\n",
      "  0.90246844 1.250595   1.5462369  1.4166553  1.3901005  1.3467615 ]\n",
      " [0.56014466 0.8048717  1.2279626  1.5567719  0.9803804  1.1000851\n",
      "  0.82043076 0.8447998  0.7222671  1.4745736  0.8170675  0.7249707\n",
      "  1.2358177  0.26545936 1.9501448  1.0841429  0.14204557 1.6726353\n",
      "  1.6341138  0.6695553  0.15562594 0.9299348  0.9548463  1.1665184 ]\n",
      " [0.7127842  0.78868717 0.7642688  1.1009629  1.0680275  0.21829545\n",
      "  0.6513238  1.5849135  0.60342896 0.658338   0.8959798  0.85580206\n",
      "  0.5369559  1.4608525  1.5503271  0.96542114 1.5198703  0.6925348\n",
      "  0.9682497  1.6382577  1.280516   1.1689739  0.88910174 1.2734628 ]\n",
      " [1.2272635  0.35296893 0.9250928  1.0155556  0.58755434 0.97343063\n",
      "  1.0025028  0.7651209  0.90554494 0.9959636  0.84389806 0.37351906\n",
      "  1.0928216  1.0954697  1.148562   0.75335854 1.068516   1.4466147\n",
      "  0.9842361  1.065162   1.0951647  0.9393145  1.3681152  0.700997  ]\n",
      " [1.5967767  0.73696613 0.8316869  0.9530628  1.1160145  1.4495013\n",
      "  1.3149152  0.7253422  0.53299063 1.7470064  1.3195069  0.8392705\n",
      "  1.0368696  1.1404116  1.5704262  0.8169174  0.80116165 1.490607\n",
      "  0.9426168  1.4104066  1.8044682  1.8360202  1.1207632  1.7919593 ]]\n",
      "Sad =  0.0\n"
     ]
    }
   ],
   "source": [
    "#Compute reference using Numpy\n",
    "c_ref = a + b\n",
    "\n",
    "#Print result\n",
    "print(\"C   = \", c)\n",
    "print(\"Ref = \", c_ref)\n",
    "print(\"Sad = \", np.sum(np.abs(c - c_ref)))"
   ]
  },
  {
   "cell_type": "code",
   "execution_count": 25,
   "metadata": {},
   "outputs": [
    {
     "data": {
      "text/plain": [
       "<matplotlib.image.AxesImage at 0x7f8e5c44a208>"
      ]
     },
     "execution_count": 25,
     "metadata": {},
     "output_type": "execute_result"
    },
    {
     "data": {
      "image/png": "[encoded data removed]",
      "text/plain": [
       "<matplotlib.figure.Figure at 0x7f8e5cf70da0>"
      ]
     },
     "metadata": {
      "needs_background": "light"
     },
     "output_type": "display_data"
    }
   ],
   "source": [
    "fig = plt.figure(figsize=(12,8))\n",
    "plt.subplot(1,2,1)\n",
    "plt.imshow(c)\n",
    "plt.subplot(1,2,2)\n",
    "plt.imshow(c_ref)"
   ]
  },
  {
   "cell_type": "code",
   "execution_count": null,
   "metadata": {},
   "outputs": [],
   "source": []
  }
 ],
 "metadata": {
  "kernelspec": {
   "display_name": "Python 3",
   "language": "python",
   "name": "python3"
  },
  "language_info": {
   "codemirror_mode": {
    "name": "ipython",
    "version": 3
   },
   "file_extension": ".py",
   "mimetype": "text/x-python",
   "name": "python",
   "nbconvert_exporter": "python",
   "pygments_lexer": "ipython3",
   "version": "3.6.6"
  }
 },
 "nbformat": 4,
 "nbformat_minor": 2
}
